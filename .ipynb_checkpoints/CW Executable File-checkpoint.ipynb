{
 "cells": [
  {
   "cell_type": "markdown",
   "id": "88ae30a5",
   "metadata": {},
   "source": [
    "## EDA"
   ]
  },
  {
   "cell_type": "code",
   "execution_count": null,
   "id": "7370504b",
   "metadata": {},
   "outputs": [],
   "source": [
    "%run ./Exploratory_Data_Analysis.ipynb"
   ]
  },
  {
   "cell_type": "markdown",
   "id": "2ddd04e6",
   "metadata": {},
   "source": [
    "## Experiment 1"
   ]
  },
  {
   "cell_type": "code",
   "execution_count": null,
   "id": "af80fb34",
   "metadata": {},
   "outputs": [],
   "source": [
    "%run ./Experiment_1_NLP_Algorithms_Techniques_.ipynb"
   ]
  },
  {
   "cell_type": "markdown",
   "id": "3a7bf09a",
   "metadata": {},
   "source": [
    "## Experiment 2"
   ]
  },
  {
   "cell_type": "code",
   "execution_count": null,
   "id": "911e8849",
   "metadata": {},
   "outputs": [],
   "source": [
    "%run ./Experiment_2_Train_Test_Val_Splits.ipynb"
   ]
  },
  {
   "cell_type": "markdown",
   "id": "4ca93b19",
   "metadata": {},
   "source": [
    "## Experiment 3"
   ]
  },
  {
   "cell_type": "code",
   "execution_count": null,
   "id": "2700b306",
   "metadata": {},
   "outputs": [],
   "source": [
    "%run ./Experiment_3_TextPreprocessingTechniques.ipynb"
   ]
  },
  {
   "cell_type": "markdown",
   "id": "7ddaf140",
   "metadata": {},
   "source": [
    "## Experiment 4"
   ]
  },
  {
   "cell_type": "code",
   "execution_count": null,
   "id": "63354f53",
   "metadata": {},
   "outputs": [],
   "source": [
    "%run ./Experiment_4_HyperParameterOptimisation.ipynb"
   ]
  }
 ],
 "metadata": {
  "kernelspec": {
   "display_name": "Python 3 (ipykernel)",
   "language": "python",
   "name": "python3"
  },
  "language_info": {
   "codemirror_mode": {
    "name": "ipython",
    "version": 3
   },
   "file_extension": ".py",
   "mimetype": "text/x-python",
   "name": "python",
   "nbconvert_exporter": "python",
   "pygments_lexer": "ipython3",
   "version": "3.9.13"
  }
 },
 "nbformat": 4,
 "nbformat_minor": 5
}

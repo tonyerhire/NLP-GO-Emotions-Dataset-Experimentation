{
 "cells": [
  {
   "cell_type": "markdown",
   "id": "f72747ce",
   "metadata": {},
   "source": [
    "## Initial Preprocessing"
   ]
  },
  {
   "cell_type": "code",
   "execution_count": 2,
   "id": "e3301ec5",
   "metadata": {},
   "outputs": [],
   "source": [
    "#%run ./InitialPreprocessing.ipynb #Not necessarily to run as preprocessed csv already stored\n"
   ]
  },
  {
   "cell_type": "markdown",
   "id": "88ae30a5",
   "metadata": {},
   "source": [
    "## EDA"
   ]
  },
  {
   "cell_type": "code",
   "execution_count": null,
   "id": "7185095d",
   "metadata": {},
   "outputs": [],
   "source": [
    "%run ./Exploratory_Data_Analysis.ipynb"
   ]
  },
  {
   "cell_type": "markdown",
   "id": "7201628b",
   "metadata": {},
   "source": [
    "## Experiment 1"
   ]
  },
  {
   "cell_type": "code",
   "execution_count": null,
   "id": "b8b4faf5",
   "metadata": {},
   "outputs": [],
   "source": [
    "%run ./Experiment_1_NLP_Algorithms_Techniques_.ipynb"
   ]
  },
  {
   "cell_type": "markdown",
   "id": "eac9654f",
   "metadata": {},
   "source": [
    "## Experiment 2"
   ]
  },
  {
   "cell_type": "code",
   "execution_count": null,
   "id": "1dde0901",
   "metadata": {},
   "outputs": [],
   "source": [
    "%run ./Experiment_2_Train_Test_Val_Splits.ipynb"
   ]
  },
  {
   "cell_type": "markdown",
   "id": "aca228e4",
   "metadata": {},
   "source": [
    "## Experiment 3"
   ]
  },
  {
   "cell_type": "code",
   "execution_count": null,
   "id": "de02ce08",
   "metadata": {},
   "outputs": [],
   "source": [
    "%run ./Experiment_3_TextPreprocessingTechniques.ipynb"
   ]
  },
  {
   "cell_type": "markdown",
   "id": "08098abc",
   "metadata": {},
   "source": [
    "## Experiment 4"
   ]
  },
  {
   "cell_type": "code",
   "execution_count": null,
   "id": "9afdaf02",
   "metadata": {},
   "outputs": [],
   "source": [
    "%run ./Experiment_4_HyperParameterOptimisation.ipynb"
   ]
  }
 ],
 "metadata": {
  "kernelspec": {
   "display_name": "Python 3 (ipykernel)",
   "language": "python",
   "name": "python3"
  },
  "language_info": {
   "codemirror_mode": {
    "name": "ipython",
    "version": 3
   },
   "file_extension": ".py",
   "mimetype": "text/x-python",
   "name": "python",
   "nbconvert_exporter": "python",
   "pygments_lexer": "ipython3",
   "version": "3.9.13"
  }
 },
 "nbformat": 4,
 "nbformat_minor": 5
}

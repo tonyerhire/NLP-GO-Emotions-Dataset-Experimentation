{
 "cells": [
  {
   "cell_type": "code",
   "execution_count": 1,
   "id": "2af9bf99",
   "metadata": {},
   "outputs": [],
   "source": [
    "import pandas as pd"
   ]
  },
  {
   "cell_type": "code",
   "execution_count": 2,
   "id": "894f2a9c",
   "metadata": {},
   "outputs": [
    {
     "name": "stderr",
     "output_type": "stream",
     "text": [
      "Found cached dataset go_emotions (/Users/anthonyawobasivwe/.cache/huggingface/datasets/go_emotions/simplified/0.0.0/2637cfdd4e64d30249c3ed2150fa2b9d279766bfcd6a809b9f085c61a90d776d)\n"
     ]
    },
    {
     "data": {
      "application/vnd.jupyter.widget-view+json": {
       "model_id": "ac1ddcb15b2c4362b957fad567ebcc2c",
       "version_major": 2,
       "version_minor": 0
      },
      "text/plain": [
       "  0%|          | 0/3 [00:00<?, ?it/s]"
      ]
     },
     "metadata": {},
     "output_type": "display_data"
    }
   ],
   "source": [
    "from datasets import load_dataset\n",
    "dataset = load_dataset('go_emotions','simplified')  "
   ]
  },
  {
   "cell_type": "code",
   "execution_count": 3,
   "id": "472d5d2c",
   "metadata": {},
   "outputs": [],
   "source": [
    "df_train = pd.DataFrame(dataset['train'])\n",
    "df_test = pd.DataFrame(dataset['test'])\n",
    "df_val = pd.DataFrame(dataset['validation'])"
   ]
  },
  {
   "cell_type": "code",
   "execution_count": 4,
   "id": "342b62ec",
   "metadata": {},
   "outputs": [],
   "source": [
    "df = pd.concat([df_train,df_test,df_val])\n",
    "df.reset_index(inplace=True, drop=True)"
   ]
  },
  {
   "cell_type": "code",
   "execution_count": 5,
   "id": "3259d7ed",
   "metadata": {},
   "outputs": [
    {
     "data": {
      "text/html": [
       "<div>\n",
       "<style scoped>\n",
       "    .dataframe tbody tr th:only-of-type {\n",
       "        vertical-align: middle;\n",
       "    }\n",
       "\n",
       "    .dataframe tbody tr th {\n",
       "        vertical-align: top;\n",
       "    }\n",
       "\n",
       "    .dataframe thead th {\n",
       "        text-align: right;\n",
       "    }\n",
       "</style>\n",
       "<table border=\"1\" class=\"dataframe\">\n",
       "  <thead>\n",
       "    <tr style=\"text-align: right;\">\n",
       "      <th></th>\n",
       "      <th>text</th>\n",
       "      <th>labels</th>\n",
       "      <th>id</th>\n",
       "    </tr>\n",
       "  </thead>\n",
       "  <tbody>\n",
       "    <tr>\n",
       "      <th>0</th>\n",
       "      <td>My favourite food is anything I didn't have to...</td>\n",
       "      <td>[27]</td>\n",
       "      <td>eebbqej</td>\n",
       "    </tr>\n",
       "    <tr>\n",
       "      <th>1</th>\n",
       "      <td>Now if he does off himself, everyone will thin...</td>\n",
       "      <td>[27]</td>\n",
       "      <td>ed00q6i</td>\n",
       "    </tr>\n",
       "    <tr>\n",
       "      <th>2</th>\n",
       "      <td>WHY THE FUCK IS BAYLESS ISOING</td>\n",
       "      <td>[2]</td>\n",
       "      <td>eezlygj</td>\n",
       "    </tr>\n",
       "    <tr>\n",
       "      <th>3</th>\n",
       "      <td>To make her feel threatened</td>\n",
       "      <td>[14]</td>\n",
       "      <td>ed7ypvh</td>\n",
       "    </tr>\n",
       "    <tr>\n",
       "      <th>4</th>\n",
       "      <td>Dirty Southern Wankers</td>\n",
       "      <td>[3]</td>\n",
       "      <td>ed0bdzj</td>\n",
       "    </tr>\n",
       "    <tr>\n",
       "      <th>...</th>\n",
       "      <td>...</td>\n",
       "      <td>...</td>\n",
       "      <td>...</td>\n",
       "    </tr>\n",
       "    <tr>\n",
       "      <th>54258</th>\n",
       "      <td>It's pretty dangerous when the state decides w...</td>\n",
       "      <td>[14]</td>\n",
       "      <td>edyrazk</td>\n",
       "    </tr>\n",
       "    <tr>\n",
       "      <th>54259</th>\n",
       "      <td>I filed for divorce this morning. Hoping he mo...</td>\n",
       "      <td>[20]</td>\n",
       "      <td>edi2z3y</td>\n",
       "    </tr>\n",
       "    <tr>\n",
       "      <th>54260</th>\n",
       "      <td>The last time it happened I just said, \"No\" an...</td>\n",
       "      <td>[10]</td>\n",
       "      <td>eewbqtx</td>\n",
       "    </tr>\n",
       "    <tr>\n",
       "      <th>54261</th>\n",
       "      <td>I can’t stand this arrogant prick he’s no bett...</td>\n",
       "      <td>[3]</td>\n",
       "      <td>eefx57m</td>\n",
       "    </tr>\n",
       "    <tr>\n",
       "      <th>54262</th>\n",
       "      <td>::but I like baby bangs:: /tiny voice</td>\n",
       "      <td>[18]</td>\n",
       "      <td>ed5h3jh</td>\n",
       "    </tr>\n",
       "  </tbody>\n",
       "</table>\n",
       "<p>54263 rows × 3 columns</p>\n",
       "</div>"
      ],
      "text/plain": [
       "                                                    text labels       id\n",
       "0      My favourite food is anything I didn't have to...   [27]  eebbqej\n",
       "1      Now if he does off himself, everyone will thin...   [27]  ed00q6i\n",
       "2                         WHY THE FUCK IS BAYLESS ISOING    [2]  eezlygj\n",
       "3                            To make her feel threatened   [14]  ed7ypvh\n",
       "4                                 Dirty Southern Wankers    [3]  ed0bdzj\n",
       "...                                                  ...    ...      ...\n",
       "54258  It's pretty dangerous when the state decides w...   [14]  edyrazk\n",
       "54259  I filed for divorce this morning. Hoping he mo...   [20]  edi2z3y\n",
       "54260  The last time it happened I just said, \"No\" an...   [10]  eewbqtx\n",
       "54261  I can’t stand this arrogant prick he’s no bett...    [3]  eefx57m\n",
       "54262              ::but I like baby bangs:: /tiny voice   [18]  ed5h3jh\n",
       "\n",
       "[54263 rows x 3 columns]"
      ]
     },
     "execution_count": 5,
     "metadata": {},
     "output_type": "execute_result"
    }
   ],
   "source": [
    "df"
   ]
  },
  {
   "cell_type": "code",
   "execution_count": 6,
   "id": "6638a539",
   "metadata": {},
   "outputs": [],
   "source": [
    "for array in df['labels']:\n",
    "    while len(array) > 1:\n",
    "        array.pop()"
   ]
  },
  {
   "cell_type": "code",
   "execution_count": 7,
   "id": "733a957e",
   "metadata": {},
   "outputs": [],
   "source": [
    "label_names = {'0': 'admiration',\n",
    "              '1': 'amusement',\n",
    "              '2': 'anger',\n",
    "              '3': 'annoyance',\n",
    "              '4': 'approval',\n",
    "              '5': 'caring',\n",
    "              '6': 'confusion',\n",
    "              '7': 'curiosity',\n",
    "              '8': 'desire',\n",
    "              '9': 'disappointment',\n",
    "              '10': 'disapproval',\n",
    "              '11': 'disgust',\n",
    "              '12': 'embarrassment',\n",
    "              '13': 'excitement',\n",
    "              '14': 'fear',\n",
    "              '15': 'gratitude',\n",
    "              '16': 'grief',\n",
    "              '17': 'joy',\n",
    "              '18': 'love',\n",
    "              '19': 'nervousness',\n",
    "              '20': 'optimism',\n",
    "              '21': 'pride',\n",
    "              '22': 'realisation',\n",
    "              '23': 'relief',\n",
    "              '24': 'remorse',\n",
    "              '25': 'sadness',\n",
    "              '26': 'surprise',\n",
    "              '27': 'neutral'}"
   ]
  },
  {
   "cell_type": "code",
   "execution_count": 8,
   "id": "1ba4d511",
   "metadata": {},
   "outputs": [],
   "source": [
    "for i in range(len(df['labels'])):\n",
    "    df['labels'][i] = label_names[str(df['labels'][i][0])]"
   ]
  },
  {
   "cell_type": "code",
   "execution_count": 9,
   "id": "e4852cd8",
   "metadata": {},
   "outputs": [],
   "source": [
    "df = df.replace({'labels': {'neutral': 1, 'confusion': 2 , 'curiosity':2 ,'realisation' :3 , 'surprise':3\n",
    "                                       ,'sadness' :4, 'grief':4 , 'approval' :5 , 'pride':5 , 'admiration' :6 ,\n",
    "                                        'fear':7 , 'nervousness' :7 , 'embarrassment' : 7, 'gratitude' :8 ,'relief':8 ,\n",
    "                                       'joy':9, 'amusement':9 , 'remorse' : 10 , 'disappointment':10, \n",
    "                                       'desire':11 , 'excitement' :11 , 'optimism' :11 , 'annoyance' :12 , 'anger' :12,\n",
    "                                       'disapproval' :13 , 'disgust' :13 , 'love' :14 , 'caring':14  }})"
   ]
  },
  {
   "cell_type": "code",
   "execution_count": 10,
   "id": "ce008d11",
   "metadata": {},
   "outputs": [],
   "source": [
    "df = df.drop('id', axis=1 )"
   ]
  },
  {
   "cell_type": "code",
   "execution_count": 11,
   "id": "653350f0",
   "metadata": {},
   "outputs": [],
   "source": [
    "#removing duplicated text \n",
    "index = df[df['text'].duplicated() == True].index\n",
    "df.drop(index, axis = 0, inplace = True)\n",
    "df.reset_index(inplace=True, drop = True)"
   ]
  },
  {
   "cell_type": "code",
   "execution_count": 12,
   "id": "225cb2b8",
   "metadata": {},
   "outputs": [
    {
     "data": {
      "text/html": [
       "<div>\n",
       "<style scoped>\n",
       "    .dataframe tbody tr th:only-of-type {\n",
       "        vertical-align: middle;\n",
       "    }\n",
       "\n",
       "    .dataframe tbody tr th {\n",
       "        vertical-align: top;\n",
       "    }\n",
       "\n",
       "    .dataframe thead th {\n",
       "        text-align: right;\n",
       "    }\n",
       "</style>\n",
       "<table border=\"1\" class=\"dataframe\">\n",
       "  <thead>\n",
       "    <tr style=\"text-align: right;\">\n",
       "      <th></th>\n",
       "      <th>text</th>\n",
       "      <th>labels</th>\n",
       "    </tr>\n",
       "  </thead>\n",
       "  <tbody>\n",
       "    <tr>\n",
       "      <th>0</th>\n",
       "      <td>My favourite food is anything I didn't have to...</td>\n",
       "      <td>1</td>\n",
       "    </tr>\n",
       "    <tr>\n",
       "      <th>1</th>\n",
       "      <td>Now if he does off himself, everyone will thin...</td>\n",
       "      <td>1</td>\n",
       "    </tr>\n",
       "    <tr>\n",
       "      <th>2</th>\n",
       "      <td>WHY THE FUCK IS BAYLESS ISOING</td>\n",
       "      <td>12</td>\n",
       "    </tr>\n",
       "    <tr>\n",
       "      <th>3</th>\n",
       "      <td>To make her feel threatened</td>\n",
       "      <td>7</td>\n",
       "    </tr>\n",
       "    <tr>\n",
       "      <th>4</th>\n",
       "      <td>Dirty Southern Wankers</td>\n",
       "      <td>12</td>\n",
       "    </tr>\n",
       "  </tbody>\n",
       "</table>\n",
       "</div>"
      ],
      "text/plain": [
       "                                                text  labels\n",
       "0  My favourite food is anything I didn't have to...       1\n",
       "1  Now if he does off himself, everyone will thin...       1\n",
       "2                     WHY THE FUCK IS BAYLESS ISOING      12\n",
       "3                        To make her feel threatened       7\n",
       "4                             Dirty Southern Wankers      12"
      ]
     },
     "execution_count": 12,
     "metadata": {},
     "output_type": "execute_result"
    }
   ],
   "source": [
    "df.head()"
   ]
  },
  {
   "cell_type": "code",
   "execution_count": 13,
   "id": "1a553be3",
   "metadata": {},
   "outputs": [
    {
     "data": {
      "text/plain": [
       "53994"
      ]
     },
     "execution_count": 13,
     "metadata": {},
     "output_type": "execute_result"
    }
   ],
   "source": [
    "len(df)"
   ]
  },
  {
   "cell_type": "code",
   "execution_count": 14,
   "id": "2fd68951",
   "metadata": {},
   "outputs": [
    {
     "data": {
      "text/plain": [
       "3"
      ]
     },
     "execution_count": 14,
     "metadata": {},
     "output_type": "execute_result"
    }
   ],
   "source": [
    "len(dataset)"
   ]
  },
  {
   "cell_type": "code",
   "execution_count": 15,
   "id": "6165b3d9",
   "metadata": {},
   "outputs": [],
   "source": [
    "# Save the dataset to a CSV file\n",
    "df.to_csv(\"emotions_preprocessed.csv\", index=False)"
   ]
  },
  {
   "cell_type": "code",
   "execution_count": null,
   "id": "e1279549",
   "metadata": {},
   "outputs": [],
   "source": []
  },
  {
   "cell_type": "code",
   "execution_count": null,
   "id": "de1af06e",
   "metadata": {},
   "outputs": [],
   "source": []
  },
  {
   "cell_type": "code",
   "execution_count": null,
   "id": "866221ce",
   "metadata": {},
   "outputs": [],
   "source": []
  },
  {
   "cell_type": "code",
   "execution_count": null,
   "id": "aad3df6d",
   "metadata": {},
   "outputs": [],
   "source": []
  },
  {
   "cell_type": "code",
   "execution_count": null,
   "id": "80813d2f",
   "metadata": {},
   "outputs": [],
   "source": []
  }
 ],
 "metadata": {
  "kernelspec": {
   "display_name": "Python 3 (ipykernel)",
   "language": "python",
   "name": "python3"
  },
  "language_info": {
   "codemirror_mode": {
    "name": "ipython",
    "version": 3
   },
   "file_extension": ".py",
   "mimetype": "text/x-python",
   "name": "python",
   "nbconvert_exporter": "python",
   "pygments_lexer": "ipython3",
   "version": "3.9.13"
  }
 },
 "nbformat": 4,
 "nbformat_minor": 5
}
